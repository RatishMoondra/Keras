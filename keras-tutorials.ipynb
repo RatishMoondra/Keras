{
 "cells": [
  {
   "cell_type": "code",
   "execution_count": 57,
   "metadata": {},
   "outputs": [],
   "source": [
    "import pandas as pd\n",
    "import numpy as np\n",
    "\n",
    "import matplotlib.pyplot as plt \n",
    "import seaborn as sns \n",
    "\n",
    "from random import randint"
   ]
  },
  {
   "cell_type": "code",
   "execution_count": 58,
   "metadata": {},
   "outputs": [],
   "source": [
    "def prepareData(range1=1000, range2=50):\n",
    "    samples = []\n",
    "    labels = []\n",
    "    # 5% got the side effect amongst 13-64 \n",
    "    # 5% did not get the dise effect amonsgt 65-100\n",
    "    for i in range(range2):\n",
    "        age = randint(13,64)\n",
    "        samples.append(age)\n",
    "        labels.append(1)\n",
    "\n",
    "        age = randint(65,100)\n",
    "        samples.append(age)\n",
    "        labels.append(0)\n",
    "\n",
    "    for i in range(range1):\n",
    "        age = randint(13,64)\n",
    "        samples.append(age)\n",
    "        labels.append(0)\n",
    "\n",
    "        age = randint(65,100)\n",
    "        samples.append(age)\n",
    "        labels.append(1)\n",
    "\n",
    "    return samples, labels\n",
    "\n",
    "train_samples, train_labels = prepareData(range1=1000, range2=50)\n",
    "test_samples, test_labels = prepareData(range1=200, range2=10)\n"
   ]
  },
  {
   "cell_type": "code",
   "execution_count": 59,
   "metadata": {},
   "outputs": [],
   "source": [
    "train_labels = np.array(train_labels)\n",
    "train_samples = np.array(train_samples)\n",
    "\n",
    "test_labels = np.array(test_labels)\n",
    "test_samples = np.array(test_samples)\n"
   ]
  },
  {
   "cell_type": "code",
   "execution_count": 60,
   "metadata": {},
   "outputs": [],
   "source": [
    "# Import MinMaxScaler\n",
    "from sklearn.preprocessing import MinMaxScaler\n",
    "\n",
    "# Create scaler: scaler \n",
    "scaler = MinMaxScaler()\n",
    "scaled_train_samples = scaler.fit_transform(train_samples.reshape(-1,1))\n",
    "scaled_test_samples = scaler.transform(test_samples.reshape(-1,1))\n",
    "\n"
   ]
  },
  {
   "cell_type": "code",
   "execution_count": 61,
   "metadata": {},
   "outputs": [],
   "source": [
    "# import shuffle\n",
    "from sklearn.utils import shuffle\n",
    "\n",
    "scaled_train_samples, train_labels = shuffle(scaled_train_samples, train_labels)\n",
    "scaled_test_samples, test_labels = shuffle(scaled_test_samples, test_labels)\n",
    "\n"
   ]
  },
  {
   "cell_type": "code",
   "execution_count": 62,
   "metadata": {},
   "outputs": [],
   "source": [
    "#implement Sequenctial model\n",
    "import tensorflow as tf\n",
    "from tensorflow import keras\n",
    "from tensorflow.keras.models import Sequential\n",
    "from tensorflow.keras.layers import Dense, Activation\n",
    "from tensorflow.keras.optimizers import Adam\n",
    "from tensorflow.keras.metrics import categorical_crossentropy"
   ]
  },
  {
   "cell_type": "code",
   "execution_count": 63,
   "metadata": {},
   "outputs": [],
   "source": [
    "from keras.layers import Dense\n",
    "from keras.models import Sequential\n",
    "model = Sequential(\n",
    "    [ \n",
    "    Dense(32, input_shape=(1,), activation='relu'),\n",
    "    Dense(16, activation='relu'),\n",
    "    Dense(2, activation='softmax')\n",
    "    ]\n",
    ")"
   ]
  },
  {
   "cell_type": "code",
   "execution_count": 64,
   "metadata": {},
   "outputs": [
    {
     "name": "stdout",
     "output_type": "stream",
     "text": [
      "Model: \"sequential_3\"\n",
      "_________________________________________________________________\n",
      " Layer (type)                Output Shape              Param #   \n",
      "=================================================================\n",
      " dense_9 (Dense)             (None, 32)                64        \n",
      "                                                                 \n",
      " dense_10 (Dense)            (None, 16)                528       \n",
      "                                                                 \n",
      " dense_11 (Dense)            (None, 2)                 34        \n",
      "                                                                 \n",
      "=================================================================\n",
      "Total params: 626\n",
      "Trainable params: 626\n",
      "Non-trainable params: 0\n",
      "_________________________________________________________________\n"
     ]
    }
   ],
   "source": [
    "# print model summary\n",
    "model.summary()"
   ]
  },
  {
   "cell_type": "code",
   "execution_count": 65,
   "metadata": {},
   "outputs": [],
   "source": [
    "# compile the model\n",
    "adamOptimizer = Adam(learning_rate=1e-4)\n",
    "model.compile(loss='sparse_categorical_crossentropy', optimizer=adamOptimizer, metrics=['accuracy'])\n"
   ]
  },
  {
   "cell_type": "code",
   "execution_count": 66,
   "metadata": {},
   "outputs": [
    {
     "name": "stdout",
     "output_type": "stream",
     "text": [
      "Epoch 1/30\n",
      "189/189 [==============================] - 1s 2ms/step - loss: 0.6372 - accuracy: 0.5831 - val_loss: 0.6380 - val_accuracy: 0.5714\n",
      "Epoch 2/30\n",
      "189/189 [==============================] - 0s 1ms/step - loss: 0.6093 - accuracy: 0.6587 - val_loss: 0.6094 - val_accuracy: 0.6571\n",
      "Epoch 3/30\n",
      "189/189 [==============================] - 0s 1ms/step - loss: 0.5790 - accuracy: 0.7413 - val_loss: 0.5803 - val_accuracy: 0.7238\n",
      "Epoch 4/30\n",
      "189/189 [==============================] - 0s 1ms/step - loss: 0.5490 - accuracy: 0.7820 - val_loss: 0.5505 - val_accuracy: 0.7714\n",
      "Epoch 5/30\n",
      "189/189 [==============================] - 0s 1ms/step - loss: 0.5186 - accuracy: 0.8143 - val_loss: 0.5201 - val_accuracy: 0.8048\n",
      "Epoch 6/30\n",
      "189/189 [==============================] - 0s 1ms/step - loss: 0.4876 - accuracy: 0.8386 - val_loss: 0.4904 - val_accuracy: 0.8238\n",
      "Epoch 7/30\n",
      "189/189 [==============================] - 0s 1ms/step - loss: 0.4569 - accuracy: 0.8524 - val_loss: 0.4597 - val_accuracy: 0.8524\n",
      "Epoch 8/30\n",
      "189/189 [==============================] - 0s 1ms/step - loss: 0.4276 - accuracy: 0.8688 - val_loss: 0.4310 - val_accuracy: 0.8857\n",
      "Epoch 9/30\n",
      "189/189 [==============================] - 0s 1ms/step - loss: 0.4008 - accuracy: 0.8836 - val_loss: 0.4065 - val_accuracy: 0.9048\n",
      "Epoch 10/30\n",
      "189/189 [==============================] - 0s 2ms/step - loss: 0.3771 - accuracy: 0.8942 - val_loss: 0.3850 - val_accuracy: 0.9048\n",
      "Epoch 11/30\n",
      "189/189 [==============================] - 0s 1ms/step - loss: 0.3566 - accuracy: 0.9037 - val_loss: 0.3672 - val_accuracy: 0.9048\n",
      "Epoch 12/30\n",
      "189/189 [==============================] - 0s 2ms/step - loss: 0.3393 - accuracy: 0.9074 - val_loss: 0.3524 - val_accuracy: 0.9143\n",
      "Epoch 13/30\n",
      "189/189 [==============================] - 0s 2ms/step - loss: 0.3250 - accuracy: 0.9111 - val_loss: 0.3384 - val_accuracy: 0.9190\n",
      "Epoch 14/30\n",
      "189/189 [==============================] - 0s 2ms/step - loss: 0.3132 - accuracy: 0.9164 - val_loss: 0.3284 - val_accuracy: 0.9190\n",
      "Epoch 15/30\n",
      "189/189 [==============================] - 0s 2ms/step - loss: 0.3034 - accuracy: 0.9206 - val_loss: 0.3199 - val_accuracy: 0.9238\n",
      "Epoch 16/30\n",
      "189/189 [==============================] - 0s 2ms/step - loss: 0.2954 - accuracy: 0.9243 - val_loss: 0.3146 - val_accuracy: 0.9190\n",
      "Epoch 17/30\n",
      "189/189 [==============================] - 0s 2ms/step - loss: 0.2889 - accuracy: 0.9201 - val_loss: 0.3088 - val_accuracy: 0.9238\n",
      "Epoch 18/30\n",
      "189/189 [==============================] - 0s 2ms/step - loss: 0.2830 - accuracy: 0.9238 - val_loss: 0.3038 - val_accuracy: 0.9238\n",
      "Epoch 19/30\n",
      "189/189 [==============================] - 0s 2ms/step - loss: 0.2783 - accuracy: 0.9243 - val_loss: 0.2991 - val_accuracy: 0.9238\n",
      "Epoch 20/30\n",
      "189/189 [==============================] - 0s 2ms/step - loss: 0.2745 - accuracy: 0.9270 - val_loss: 0.2969 - val_accuracy: 0.9238\n",
      "Epoch 21/30\n",
      "189/189 [==============================] - 0s 2ms/step - loss: 0.2709 - accuracy: 0.9286 - val_loss: 0.2932 - val_accuracy: 0.9238\n",
      "Epoch 22/30\n",
      "189/189 [==============================] - 0s 2ms/step - loss: 0.2683 - accuracy: 0.9259 - val_loss: 0.2911 - val_accuracy: 0.9238\n",
      "Epoch 23/30\n",
      "189/189 [==============================] - 0s 2ms/step - loss: 0.2659 - accuracy: 0.9302 - val_loss: 0.2884 - val_accuracy: 0.9286\n",
      "Epoch 24/30\n",
      "189/189 [==============================] - 0s 2ms/step - loss: 0.2635 - accuracy: 0.9275 - val_loss: 0.2870 - val_accuracy: 0.9286\n",
      "Epoch 25/30\n",
      "189/189 [==============================] - 0s 2ms/step - loss: 0.2619 - accuracy: 0.9307 - val_loss: 0.2850 - val_accuracy: 0.9286\n",
      "Epoch 26/30\n",
      "189/189 [==============================] - 0s 2ms/step - loss: 0.2602 - accuracy: 0.9349 - val_loss: 0.2842 - val_accuracy: 0.9286\n",
      "Epoch 27/30\n",
      "189/189 [==============================] - 0s 2ms/step - loss: 0.2586 - accuracy: 0.9344 - val_loss: 0.2831 - val_accuracy: 0.9286\n",
      "Epoch 28/30\n",
      "189/189 [==============================] - 0s 2ms/step - loss: 0.2571 - accuracy: 0.9376 - val_loss: 0.2835 - val_accuracy: 0.9238\n",
      "Epoch 29/30\n",
      "189/189 [==============================] - 0s 2ms/step - loss: 0.2561 - accuracy: 0.9296 - val_loss: 0.2805 - val_accuracy: 0.9286\n",
      "Epoch 30/30\n",
      "189/189 [==============================] - 0s 2ms/step - loss: 0.2550 - accuracy: 0.9381 - val_loss: 0.2798 - val_accuracy: 0.9286\n"
     ]
    },
    {
     "data": {
      "text/plain": [
       "<keras.callbacks.History at 0x2200f8f6090>"
      ]
     },
     "execution_count": 66,
     "metadata": {},
     "output_type": "execute_result"
    }
   ],
   "source": [
    "model.fit(scaled_train_samples, train_labels, epochs=30, batch_size=10, validation_split=0.1, shuffle=True)"
   ]
  },
  {
   "cell_type": "code",
   "execution_count": 67,
   "metadata": {},
   "outputs": [],
   "source": [
    "assert model.history.history.get('accuracy')[-1]>=0.90\n",
    "assert model.history.history.get('val_accuracy')[-1]>=0.89"
   ]
  },
  {
   "cell_type": "code",
   "execution_count": 69,
   "metadata": {},
   "outputs": [
    {
     "data": {
      "image/png": "[encoded data removed]",
      "text/plain": [
       "<Figure size 640x480 with 1 Axes>"
      ]
     },
     "metadata": {},
     "output_type": "display_data"
    },
    {
     "data": {
      "image/png": "[encoded data removed]",
      "text/plain": [
       "<Figure size 640x480 with 1 Axes>"
      ]
     },
     "metadata": {},
     "output_type": "display_data"
    }
   ],
   "source": [
    "from utils import plot_learning_curve, plot_loss_curve, compute_metrics\n",
    "plot_learning_curve(model.history)\n",
    "plot_loss_curve(model.history)"
   ]
  },
  {
   "attachments": {},
   "cell_type": "markdown",
   "metadata": {},
   "source": [
    "# Preprocess Test Data"
   ]
  },
  {
   "cell_type": "code",
   "execution_count": 70,
   "metadata": {},
   "outputs": [],
   "source": [
    "# confusion matrix\n",
    "from sklearn.metrics import confusion_matrix\n",
    "from sklearn.metrics import accuracy_score\n",
    "from sklearn.metrics import classification_report\n"
   ]
  },
  {
   "cell_type": "code",
   "execution_count": 71,
   "metadata": {},
   "outputs": [
    {
     "name": "stdout",
     "output_type": "stream",
     "text": [
      "14/14 [==============================] - 0s 2ms/step\n",
      "[0 1 0 1 0 1 0 0 0 1 1 0 0 1 1 1 0 1 1 1 1 1 1 1 1 0 1 0 0 1 1 1 0 0 1 0 1\n",
      " 0 0 0 1 0 0 1 0 1 0 0 0 1 1 0 1 1 0 1 1 0 0 0 1 0 1 0 0 0 1 1 0 1 0 0 0 0\n",
      " 1 1 0 0 1 1 1 1 1 0 0 1 1 1 0 1 1 0 0 1 0 1 1 1 1 1 0 0 1 1 0 1 0 0 1 1 0\n",
      " 0 1 0 1 0 1 1 1 1 1 1 1 0 1 1 1 0 1 0 1 1 0 1 1 1 1 1 0 0 0 1 0 1 0 1 1 1\n",
      " 0 1 0 1 0 0 1 0 1 0 0 1 1 0 1 1 1 0 0 1 0 1 0 1 1 1 0 0 0 0 0 0 0 0 0 0 0\n",
      " 0 0 1 0 0 0 1 1 1 0 1 1 0 0 0 0 1 1 1 1 0 1 1 1 1 1 1 1 1 1 0 0 1 1 1 1 0\n",
      " 0 0 1 1 0 1 0 1 1 1 0 0 1 1 1 0 1 0 1 1 1 1 1 0 0 0 1 0 0 1 0 1 1 1 0 0 1\n",
      " 1 1 0 1 0 0 0 1 0 0 0 1 1 0 1 0 1 0 1 1 1 1 0 1 1 1 0 0 1 0 1 0 1 0 1 0 0\n",
      " 1 0 1 1 1 0 1 1 1 0 0 1 1 0 1 0 1 0 0 1 1 0 0 1 1 1 1 1 0 0 0 1 1 1 0 1 0\n",
      " 1 0 0 1 1 1 1 1 0 0 0 1 0 1 0 0 0 0 1 1 0 0 1 0 1 0 0 1 0 0 1 1 1 0 1 0 1\n",
      " 0 0 1 0 0 1 0 1 0 1 0 0 0 1 0 0 1 0 1 0 1 0 1 1 1 0 1 0 0 0 1 0 0 0 0 0 0\n",
      " 0 1 0 0 1 1 0 0 1 1 1 0 0]\n"
     ]
    }
   ],
   "source": [
    "predictions = model.predict(scaled_test_samples)\n",
    "predictions = np.argmax(predictions, axis=-1)\n",
    "print(predictions)\n"
   ]
  },
  {
   "cell_type": "code",
   "execution_count": 72,
   "metadata": {},
   "outputs": [
    {
     "data": {
      "text/plain": [
       "array([[190,  20],\n",
       "       [ 10, 200]], dtype=int64)"
      ]
     },
     "execution_count": 72,
     "metadata": {},
     "output_type": "execute_result"
    }
   ],
   "source": [
    "#plot confustion matrix\n",
    "\n",
    "from sklearn.metrics import confusion_matrix\n",
    "import itertools\n",
    "\n",
    "cm = confusion_matrix(test_labels, predictions)\n",
    "cm"
   ]
  },
  {
   "cell_type": "code",
   "execution_count": 73,
   "metadata": {},
   "outputs": [
    {
     "data": {
      "image/png": "[encoded data removed]",
      "text/plain": [
       "<Figure size 640x480 with 2 Axes>"
      ]
     },
     "metadata": {},
     "output_type": "display_data"
    }
   ],
   "source": [
    "cm_plot_labels = [\"Zero Side Effects\", \"With Side Effects\"]\n",
    "from utils import plot_confusion_matrix, plot_learning_curve, plot_loss_curve\n",
    "\n",
    "plot_confusion_matrix(cm, classes=cm_plot_labels)"
   ]
  },
  {
   "cell_type": "code",
   "execution_count": 78,
   "metadata": {},
   "outputs": [
    {
     "name": "stdout",
     "output_type": "stream",
     "text": [
      "Accuracy: 0.9285714285714286\n",
      "Sensitivity: 0.95\n",
      "Specificity: 0.9090909090909091\n",
      "Precision: 0.9047619047619048\n",
      "Recall: 0.95\n",
      "F1 Score: 0.9268292682926829\n"
     ]
    },
    {
     "data": {
      "text/plain": [
       "(0.9285714285714286,\n",
       " 0.95,\n",
       " 0.9090909090909091,\n",
       " 0.9047619047619048,\n",
       " 0.95,\n",
       " 0.9268292682926829)"
      ]
     },
     "execution_count": 78,
     "metadata": {},
     "output_type": "execute_result"
    }
   ],
   "source": [
    "compute_metrics(cm)"
   ]
  },
  {
   "cell_type": "code",
   "execution_count": 79,
   "metadata": {},
   "outputs": [
    {
     "name": "stdout",
     "output_type": "stream",
     "text": [
      "Model: \"sequential_3\"\n",
      "_________________________________________________________________\n",
      " Layer (type)                Output Shape              Param #   \n",
      "=================================================================\n",
      " dense_9 (Dense)             (None, 32)                64        \n",
      "                                                                 \n",
      " dense_10 (Dense)            (None, 16)                528       \n",
      "                                                                 \n",
      " dense_11 (Dense)            (None, 2)                 34        \n",
      "                                                                 \n",
      "=================================================================\n",
      "Total params: 626\n",
      "Trainable params: 626\n",
      "Non-trainable params: 0\n",
      "_________________________________________________________________\n"
     ]
    }
   ],
   "source": [
    "model.summary()"
   ]
  },
  {
   "attachments": {},
   "cell_type": "markdown",
   "metadata": {},
   "source": [
    "Save the model"
   ]
  },
  {
   "cell_type": "code",
   "execution_count": 81,
   "metadata": {},
   "outputs": [],
   "source": [
    "# save modeel to a file\n",
    "import os.path\n",
    "if os.path.isfile('models/medical_train_model.h5') is False:\n",
    "    model.save('models/medical_train_model.h5')\n"
   ]
  },
  {
   "cell_type": "code",
   "execution_count": 82,
   "metadata": {},
   "outputs": [
    {
     "name": "stdout",
     "output_type": "stream",
     "text": [
      "Model: \"sequential_3\"\n",
      "_________________________________________________________________\n",
      " Layer (type)                Output Shape              Param #   \n",
      "=================================================================\n",
      " dense_9 (Dense)             (None, 32)                64        \n",
      "                                                                 \n",
      " dense_10 (Dense)            (None, 16)                528       \n",
      "                                                                 \n",
      " dense_11 (Dense)            (None, 2)                 34        \n",
      "                                                                 \n",
      "=================================================================\n",
      "Total params: 626\n",
      "Trainable params: 626\n",
      "Non-trainable params: 0\n",
      "_________________________________________________________________\n"
     ]
    }
   ],
   "source": [
    "# load the model\n",
    "from tensorflow.keras.models import load_model\n",
    "new_model = load_model('models/medical_train_model.h5')\n",
    "new_model.summary()\n"
   ]
  },
  {
   "cell_type": "code",
   "execution_count": 84,
   "metadata": {},
   "outputs": [
    {
     "data": {
      "text/plain": [
       "<keras.optimizers.adam.Adam at 0x22010e093d0>"
      ]
     },
     "execution_count": 84,
     "metadata": {},
     "output_type": "execute_result"
    }
   ],
   "source": [
    "new_model.optimizer"
   ]
  },
  {
   "attachments": {},
   "cell_type": "markdown",
   "metadata": {},
   "source": [
    "model to jason"
   ]
  },
  {
   "cell_type": "code",
   "execution_count": 86,
   "metadata": {},
   "outputs": [
    {
     "name": "stdout",
     "output_type": "stream",
     "text": [
      "{\"class_name\": \"Sequential\", \"config\": {\"name\": \"sequential_3\", \"layers\": [{\"class_name\": \"InputLayer\", \"config\": {\"batch_input_shape\": [null, 1], \"dtype\": \"float32\", \"sparse\": false, \"ragged\": false, \"name\": \"dense_9_input\"}}, {\"class_name\": \"Dense\", \"config\": {\"name\": \"dense_9\", \"trainable\": true, \"dtype\": \"float32\", \"batch_input_shape\": [null, 1], \"units\": 32, \"activation\": \"relu\", \"use_bias\": true, \"kernel_initializer\": {\"class_name\": \"GlorotUniform\", \"config\": {\"seed\": null}}, \"bias_initializer\": {\"class_name\": \"Zeros\", \"config\": {}}, \"kernel_regularizer\": null, \"bias_regularizer\": null, \"activity_regularizer\": null, \"kernel_constraint\": null, \"bias_constraint\": null}}, {\"class_name\": \"Dense\", \"config\": {\"name\": \"dense_10\", \"trainable\": true, \"dtype\": \"float32\", \"units\": 16, \"activation\": \"relu\", \"use_bias\": true, \"kernel_initializer\": {\"class_name\": \"GlorotUniform\", \"config\": {\"seed\": null}}, \"bias_initializer\": {\"class_name\": \"Zeros\", \"config\": {}}, \"kernel_regularizer\": null, \"bias_regularizer\": null, \"activity_regularizer\": null, \"kernel_constraint\": null, \"bias_constraint\": null}}, {\"class_name\": \"Dense\", \"config\": {\"name\": \"dense_11\", \"trainable\": true, \"dtype\": \"float32\", \"units\": 2, \"activation\": \"softmax\", \"use_bias\": true, \"kernel_initializer\": {\"class_name\": \"GlorotUniform\", \"config\": {\"seed\": null}}, \"bias_initializer\": {\"class_name\": \"Zeros\", \"config\": {}}, \"kernel_regularizer\": null, \"bias_regularizer\": null, \"activity_regularizer\": null, \"kernel_constraint\": null, \"bias_constraint\": null}}]}, \"keras_version\": \"2.12.0\", \"backend\": \"tensorflow\"}\n"
     ]
    }
   ],
   "source": [
    "# model to jason\n",
    "json_string = model.to_json()\n",
    "print(json_string)"
   ]
  },
  {
   "cell_type": "code",
   "execution_count": 87,
   "metadata": {},
   "outputs": [
    {
     "name": "stdout",
     "output_type": "stream",
     "text": [
      "Model: \"sequential_3\"\n",
      "_________________________________________________________________\n",
      " Layer (type)                Output Shape              Param #   \n",
      "=================================================================\n",
      " dense_9 (Dense)             (None, 32)                64        \n",
      "                                                                 \n",
      " dense_10 (Dense)            (None, 16)                528       \n",
      "                                                                 \n",
      " dense_11 (Dense)            (None, 2)                 34        \n",
      "                                                                 \n",
      "=================================================================\n",
      "Total params: 626\n",
      "Trainable params: 626\n",
      "Non-trainable params: 0\n",
      "_________________________________________________________________\n"
     ]
    }
   ],
   "source": [
    "# model from jason\n",
    "from tensorflow.keras.models import model_from_json\n",
    "model = model_from_json(json_string)\n",
    "model.summary()\n"
   ]
  },
  {
   "cell_type": "code",
   "execution_count": 90,
   "metadata": {},
   "outputs": [],
   "source": [
    "import os\n",
    "MODEL_DIR = 'models'\n",
    "# save model weights\n",
    "def save_model(model, model_name):\n",
    "    model_path = os.path.join(MODEL_DIR, model_name)\n",
    "    if not os.path.exists(model_path):\n",
    "        model.save_weights(model_path)\n",
    "\n",
    "save_model(model,  'model_weights.h5')\n"
   ]
  }
 ],
 "metadata": {
  "kernelspec": {
   "display_name": "Python 3",
   "language": "python",
   "name": "python3"
  },
  "language_info": {
   "codemirror_mode": {
    "name": "ipython",
    "version": 3
   },
   "file_extension": ".py",
   "mimetype": "text/x-python",
   "name": "python",
   "nbconvert_exporter": "python",
   "pygments_lexer": "ipython3",
   "version": "3.11.2"
  },
  "orig_nbformat": 4
 },
 "nbformat": 4,
 "nbformat_minor": 2
}
